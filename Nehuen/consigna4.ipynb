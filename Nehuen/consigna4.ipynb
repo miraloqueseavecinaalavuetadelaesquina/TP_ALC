{
 "cells": [
  {
   "cell_type": "markdown",
   "id": "a8aac635",
   "metadata": {},
   "source": [
    "### Consigna 4\n",
    "Recordemos: Siendo $C$ una matriz estocástica, y el vector $v_{0} \\in \\mathbb{R}^N$ que representa la distribución de museos que son la primer visita de los visitantes, y tiene en su elemento $i$ la cantidad de visitantes que tienen al museo $i$ como su primer opción. Entonces $v_{1} = Cv_{0}$.\n",
    "<br><br>\n",
    "Ejemplo: Quiero calcular $\\textbf{w}$ luego que los visitantes recorran 3 museos. $r = 3$\n",
    "<br>\n",
    "$v_{1} = Cv_{0}$, $\\ v_{2} = Cv_{1}$, $\\ v_{3} = Cv_{2}$ \n",
    "<br><br>\n",
    "$\\textbf{w} = v_{0} + v_{1} + v_{2} = \\sum_{i=0}^{2} v_{i}$\n",
    "<br><br>\n",
    "Si generalizamos a $r$ cantidad de visitas entonces $\\textbf{w} = \\sum_{i=0}^{r - 1} v_{i}$\n",
    "<br><br>\n",
    "Observación: $v_{2} = Cv_{1} = C\\ C\\ v_{0} = C^{2}v_{0}$. En general $v_{k} = C^{k}v_{0}$.\n",
    "<br><br>\n",
    "Por lo tanto, $\\textbf{w} = \\sum_{i=0}^{r - 1} C^{i}v_{0}$\n",
    "<br><br>\n",
    "Notemos que en este caso, por definición $v_{0} = \\textbf{v}$. Luego $\\textbf{w} = \\sum_{i=0}^{r - 1} C^{i}\\textbf{v}$\n",
    "<br><br>\n",
    "Llamemos $B = \\sum_{i=0}^{r - 1} C^{i}$, la suma de matrices da como resultado una matriz y notar que $\\textbf{v}$ no depende de la suma. Luego $\\textbf{w} = B\\textbf{v}$\n",
    "<br><br>\n",
    "Siempre que se cumpla que $\\sum_{i=0}^{r - 1} C^{i}$ sea inversible, se pueden seguir esta serie de pasos:\n",
    "<br><br>\n",
    "$\\textbf{w} = B\\textbf{v}$\n",
    "<br><br>\n",
    "$B^{-1}\\textbf{w} = B^{-1}B\\textbf{v}$\n",
    "<br><br>\n",
    "$B^{-1}\\textbf{w} = I\\textbf{v}$\n",
    "<br><br>\n",
    "$B^{-1}\\textbf{w} = \\textbf{v}$\n",
    "<br><br>\n",
    "Concluimos lo que se quería mostrar."
   ]
  }
 ],
 "metadata": {
  "language_info": {
   "name": "python"
  }
 },
 "nbformat": 4,
 "nbformat_minor": 5
}
