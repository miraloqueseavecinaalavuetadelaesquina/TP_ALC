{
 "cells": [
  {
   "cell_type": "markdown",
   "id": "459f29c2",
   "metadata": {},
   "source": [
    "### Consigna 2\n",
    "Recordemos que para que el sistema de ecuaciones lineales $ Ax = b $ tenga una única solución, $A$ debe ser inversible. Lo mismo ocurre con $ M\\textbf{p} = \\textbf{b}$. Para que sea inversible, $M$ debe ser cuadrada y sus filas deben ser linealmente independientes.\n",
    "<br><br>\n",
    "La matriz $C$ se calcula como $ C = A^\\top\\ K^{-1} $. Como $ $A \\in \\mathbb{R}^{N \\times N}$ y $K$ es una matriz diagonal cuadrada, entonces $C$ también lo es. Como $M$ se construye restando un escalar multiplicando a $ C $ a una matriz identidad. A eso se le multiplica otro escalar. Por lo tanto $M$ es cuadrada.\n",
    "<br><br>\n",
    "Analizamos la singularidad de $M$. $ A $ es una matriz cuadrada donde su diagonal principal son ceros y sus elementos son unos o ceros. Lo que representa es el elemento $ a_{ij} $ es si el museo j se encuentra entre los 3 museos mas cercanos del i. Al calcular $C$ se transpone $A$ por lo tanto lo que representa eso mismo es el elemento $at_{ji}$\n",
    "<br>\n",
    "$K$ es una matriz diagonal con valores no nulos en la diagonal.\n",
    "<br><br>\n",
    "En este punto podemos afirmar que si $A$ es singular entonces $C$ es singular y por lo tanto $M$ es singular, debido a que el determinante de $C$ será $0$ y la operaciones que se realizan para construir $M$ haran que el determinante de $M$ sea igual a $0$.\n",
    "<br><br>\n",
    "Analizamos ahora la singularidad de $A$, Por la forma en la que se define, $A$ puede tener dos filas linealmente dependientes por lo que sería una matriz singular. Imaginemos el caso en que un museo (1) se encuentra en el cruce entre dos rectas perpendiculares entre si y sobre cada una de estas rectas se encuentran, en lados opuestos, dos museos. Estos 4 museos están a una distancia de una cuadra del museo A. El resto de los museos de la ciudad que no han sido descriptos se encuentran a, al menos, un km del museo (1). Podemos observar claramente como los museos que se sitúan sobre la misma recta y no son el (1), al representarlos en la matriz $A$ quedarían como filas linealmente dependientes. Por lo tanto $A$ es singular y no se cumplen las condiciones para garantizar que toda matriz $M$ tiene una única solución."
   ]
  }
 ],
 "metadata": {
  "language_info": {
   "name": "python"
  }
 },
 "nbformat": 4,
 "nbformat_minor": 5
}
