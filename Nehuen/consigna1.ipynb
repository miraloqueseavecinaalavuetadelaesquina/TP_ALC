{
 "cells": [
  {
   "cell_type": "markdown",
   "id": "f9eeb397",
   "metadata": {},
   "source": [
    "### Consigna 1\n",
    "Partimos de la ecuación 3:\n",
    "$$\n",
    "\\textbf{p} = (1 - \\alpha)\\ C\\ \\textbf{p} + \\frac{\\alpha}{N}\\ \\textbf{1}\n",
    "$$\n",
    "Esto es lo mismo que\n",
    "$$\n",
    "\\textbf{p} - (1 - \\alpha)\\ C\\ \\textbf{p} = \\frac{\\alpha}{N}\\ \\textbf{1}\n",
    "$$\n",
    "Sabiendo que $ I\\ \\textbf{p} = \\textbf{p} $ sacamos de factor común el vector p\n",
    "$$\n",
    "(I - (1 - \\alpha)\\ C)\\ \\textbf{p} = \\frac{\\alpha}{N}\\ \\textbf{1}\n",
    "$$\n",
    "$$\n",
    "\\frac{N}{\\alpha}(I - (1 - \\alpha)\\ C)\\ \\textbf{p} = \\textbf{1}\n",
    "$$\n",
    "Como $ M = \\frac{N}{\\alpha}(I - (1 - \\alpha)\\ C) $ y $ \\textbf{b} = \\textbf{1} $ entonces la ecuacion resulta $ M\\textbf{p} = \\textbf{b} $\n",
    "Como queriamos mostrar."
   ]
  },
  {
   "cell_type": "markdown",
   "id": "8cd5ada4",
   "metadata": {},
   "source": []
  }
 ],
 "metadata": {
  "kernelspec": {
   "display_name": "base",
   "language": "python",
   "name": "python3"
  },
  "language_info": {
   "name": "python",
   "version": "3.11.9"
  }
 },
 "nbformat": 4,
 "nbformat_minor": 5
}
