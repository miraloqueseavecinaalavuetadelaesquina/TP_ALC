{
 "cells": [
  {
   "cell_type": "markdown",
   "id": "459f29c2",
   "metadata": {},
   "source": [
    "Para que el sistema lineal $Mp=b$ tenga solución única, la matriz $M$ debe ser *invertible*, lo cual es equivalente a que:\n",
    "- $\\text{det}(M)\\neq0$\n",
    "- el núcleo de $M$ debe ser trivial: $\\text{Nu}(M)=\\{0\\}$\n",
    "\n",
    "Para demostrar que estas condiciones se cumplen para la matriz $M$ cuando $\\alpha\\in(0,1)$, tenemos que verificar que la matriz $M$ es invertible. Como por enunciado tenemos que $M=\\frac N\\alpha(I-(1-\\alpha)C)$, para demostrar su inversibilidad debemos analizar la matriz resultante de la resta $I-(1-\\alpha)C$. Como $I$ es la matriz identidad, esta está constituida por $1$ en la diagonal. Luego, por enunciado tenemos que $C=A^t\\cdot K^{-1}$, o sea que es el resultado del producto entre la matriz de adyacencia ($A$) y la matriz de movimientos ($K$). Conociendo las siguientes definiciones de las matrices $A$ y $K$:\n",
    "$$\\begin{array}{ll}\n",
    "  & A_{ij}=\\begin{cases}\n",
    "    1, & \\text{si }i\\neq j\\land j\\in m-\\text{cercanos}\\\\\n",
    "    0, & \\text{si }(i\\neq j\\land j\\notin m-\\text{cercanos})\\lor i=j\n",
    "  \\end{cases}\\\\\n",
    "  \\implies & (A_{ij})^t=A_{ji}=\\begin{cases}\n",
    "    1, & \\text{si }j\\neq i\\land j\\in m-\\text{cercanos}\\\\\n",
    "    0, & \\text{si }(j\\neq i\\land j\\notin m-\\text{cercanos})\\lor j=i\n",
    "  \\end{cases}\\\\\n",
    "  & K=\\begin{cases}\n",
    "    \\sum_{h=1}^N A_{ih}, & i=j\\\\\n",
    "    0, & i\\neq j\n",
    "  \\end{cases}\\\\\n",
    "  \\implies & K^{-1}=\\begin{cases}\n",
    "    \\sum_{h=1}^N \\frac{1}{A_{ih}}, & i=j\\\\\n",
    "    0, & i\\neq j\n",
    "  \\end{cases}\n",
    "\\end{array}$$\n",
    "Puesto que para cada fila $i$ de la matriz $A$ existen $m$ cantidad de unos, pues $A_{ij}$ es igual a 1 si el museo $j$ es parte del conjunto de $m$ museos mas cercanos a $i$, tenemos que $\\sum_{h=1}^NA_ih=m$. Por lo tanto, $K_{ii}=m$ y $(K_{ii})^{-1}=\\frac1m$.\n",
    "\n",
    "Como $A_{ii}=0$ y $(K_{ij})^{-1}=0$ con $i\\neq j$ tenemos que el producto $A^t\\cdot K^{-1}$ tendrá en su diagonal valores nulos (i.e., $C_{ii}=0$). Luego, para los elementos fuera de la diagonal tenemos que $C_{ij}=\\frac{A_{ji}}{m}$ con $i\\neq j$. Luego como $A_{ji}$ está definido por casos, queda definido $C$ de la siguiente manera:\n",
    "$$C_{ij}=\\begin{cases}\n",
    "  \\frac{1}{m}, & \\text{si } i\\neq j\\land j\\in m-\\text{cercanos}\\\\\n",
    "  0, & \\text{si } (i\\neq j\\land j\\notin m-\\text{cercanos})\\lor j=i\n",
    "\\end{cases}$$\n",
    "\n",
    "Como en la definición de la matriz $M$ tenemos que $C$ es modificado por el factor $(1-\\alpha)$, con $\\alpha\\in(0,1)$, entonces dicho factor tambien pertenece al intervalo $(0,1)$. De este modo, el resultado de la multiplicación entre $(1-\\alpha)$ y $C$ es la siguiente matriz:\n",
    "$$\\tilde{C}_{ij}=\\begin{cases}\n",
    "  \\frac{1-\\alpha}{m}, & \\text{si }i\\neq j\\land j\\in m-\\text{cercanos}\\\\\n",
    "  0, & \\text{si }(i\\neq j\\land j\\notin m-\\text{cercanos})\\lor j=i\n",
    "\\end{cases}$$\n",
    "En consecuencia, la matriz $M$ queda definida como la resta entre $I$ y $\\tilde{C}$, la cual puede ser definida de la siguiente manera:\n",
    "$$M_{ij}=\\begin{cases}\n",
    "  1, &\\text{si }i=j\\\\\n",
    "  -\\frac{1-\\alpha}{m},&\\text{si }i\\neq j\\land j\\in m-\\text{cercanos}\\\\\n",
    "  0,&\\text{si }i\\neq j\\land j\\notin m-\\text{cercanos}\n",
    "\\end{cases}$$\n",
    "Siendo que $C$ es una matriz estocástica, tenemos que las columnas de la matriz suman 1 en su totalidad. Si además, $C$ es afectado por el escalar $(1-\\alpha)<1$ tenemos que las columnas de $M$ fuera de su diagonal, suman un valor menor que 1. Teniendo en cuenta esta estructura de $M$, si analizamos $M^t$ deducimos que la matriz $M^t$ es diagonal dominante (EDD) puesto que por definición, una matriz es diagonal dominante si respeta la siguiente característica:\n",
    ">Una matriz $A\\in\\mathbb{R}^{n\\times n},\\mathbb{C}^{n\\times n}$ se dice *diagonal dominante* (estrictamente diagonal dominante) y se denota $\\text{DD}(\\text{EDD})$ si y sólo si para todo $i,1\\leq i\\leq n$. $$\\sum_{1\\leq j\\leq n,j\\neq i}|a_{i,j}|\\leq|a_{i,i}|$$\n",
    "\n",
    "Y como $M^t$ en cada fila, fuera de los elementos pertenecientes a su diagonal, tiene valores $-\\frac{1-\\alpha}{m},(1-\\alpha)\\in(0,1)$, la suma de dichos elementos siempre es menor a $M_{ii}=1$. De este modo, concluimos que $M^t$ es inversible y por lo tanto, $M$ también pues por propiedad de trasposición de matrices tenemos que:\n",
    "$$M^t(M^t)^{-1}=(M^{-1}M)^t=I^t=I$$"
   ]
  },
  {
   "cell_type": "code",
   "execution_count": null,
   "id": "d2c916ee-be23-4948-9f71-81d6ff348b72",
   "metadata": {},
   "outputs": [],
   "source": []
  }
 ],
 "metadata": {
  "kernelspec": {
   "display_name": "Python 3 (ipykernel)",
   "language": "python",
   "name": "python3"
  },
  "language_info": {
   "codemirror_mode": {
    "name": "ipython",
    "version": 3
   },
   "file_extension": ".py",
   "mimetype": "text/x-python",
   "name": "python",
   "nbconvert_exporter": "python",
   "pygments_lexer": "ipython3",
   "version": "3.12.7"
  }
 },
 "nbformat": 4,
 "nbformat_minor": 5
}
