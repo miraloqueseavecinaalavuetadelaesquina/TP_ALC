{
 "cells": [
  {
   "cell_type": "markdown",
   "id": "f9eeb397",
   "metadata": {},
   "source": [
    "### Consigna 1\n",
    "Partimos de la ecuación 3:\n",
    "$$\n",
    "\\textbf{p} = (1 - \\alpha)\\ C\\ \\textbf{p} + \\frac{\\alpha}{N}\\ \\textbf{1}\n",
    "$$\n",
    "Esto es lo mismo que\n",
    "$$\n",
    "\\textbf{p} - (1 - \\alpha)\\ C\\ \\textbf{p} = \\frac{\\alpha}{N}\\ \\textbf{1}\n",
    "$$\n",
    "Sabiendo que $ I\\ \\textbf{p} = \\textbf{p} $ sacamos de factor común el vector p\n",
    "$$\n",
    "(I - (1 - \\alpha)\\ C)\\ \\textbf{p} = \\frac{\\alpha}{N}\\ \\textbf{1}\n",
    "$$\n",
    "$$\n",
    "\\frac{N}{\\alpha}(I - (1 - \\alpha)\\ C)\\ \\textbf{p} = \\textbf{1}\n",
    "$$\n",
    "Como $ M = \\frac{N}{\\alpha}(I - (1 - \\alpha)\\ C) $ y $ \\textbf{b} = \\textbf{1} $ entonces la ecuacion resulta $ M\\textbf{p} = \\textbf{b} $\n",
    "Como queriamos mostrar."
   ]
  },
  {
   "cell_type": "markdown",
   "id": "8cd5ada4",
   "metadata": {},
   "source": []
  }
 ],
 "metadata": {
  "kernelspec": {
   "display_name": "Python 3 (ipykernel)",
   "language": "python",
   "name": "python3"
  },
  "language_info": {
   "codemirror_mode": {
    "name": "ipython",
    "version": 3
   },
   "file_extension": ".py",
   "mimetype": "text/x-python",
   "name": "python",
   "nbconvert_exporter": "python",
   "pygments_lexer": "ipython3",
   "version": "3.12.7"
  }
 },
 "nbformat": 4,
 "nbformat_minor": 5
}
