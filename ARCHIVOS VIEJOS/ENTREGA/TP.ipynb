{
 "cells": [
  {
   "cell_type": "code",
   "execution_count": 1,
   "metadata": {},
   "outputs": [],
   "source": [
    "# Carga de paquetes necesarios para graficar\n",
    "import numpy as np\n",
    "import matplotlib.pyplot as plt\n",
    "import pandas as pd # Para leer archivos\n",
    "import geopandas as gpd # Para hacer cosas geográficas\n",
    "import seaborn as sns # Para hacer plots lindos\n",
    "import networkx as nx # Construcción de la red en NetworkX\n",
    "import scipy\n"
   ]
  },
  {
   "cell_type": "markdown",
   "metadata": {},
   "source": [
    "# Preambulo\n",
    "\n",
    "En esta sección cargamos los datos y los visualizamos. También construimos la matriz de adyacencia de la red de museos."
   ]
  },
  {
   "cell_type": "markdown",
   "metadata": {},
   "source": [
    "## Carga de datos de los museos\n",
    "\n",
    "El listado de los museos, con el que se construye el [mapa](https://mapas.museosabiertos.org/museos/caba/), lo podemos encontrar [acá](https://github.com/MuseosAbiertos/Leaflet-museums-OpenStreetMap/blob/principal/data/export.geojson?short_path=bc357f3). También descargamos los barrios de CABA como complemento para los gráficos."
   ]
  },
  {
   "cell_type": "code",
   "execution_count": null,
   "metadata": {},
   "outputs": [],
   "source": [
    "# Leemos el archivo, retenemos aquellos museos que están en CABA, y descartamos aquellos que no tienen latitud y longitud\n",
    "museos = gpd.read_file('https://raw.githubusercontent.com/MuseosAbiertos/Leaflet-museums-OpenStreetMap/refs/heads/principal/data/export.geojson')\n",
    "barrios = gpd.read_file('https://cdn.buenosaires.gob.ar/datosabiertos/datasets/ministerio-de-educacion/barrios/barrios.geojson')"
   ]
  },
  {
   "cell_type": "markdown",
   "metadata": {},
   "source": [
    "## Visualización"
   ]
  },
  {
   "cell_type": "code",
   "execution_count": null,
   "metadata": {},
   "outputs": [],
   "source": [
    "# Armamos el gráfico para visualizar los museos\n",
    "fig, ax = plt.subplots(figsize=(10, 10))\n",
    "barrios.boundary.plot(color='gray',ax=ax)\n",
    "museos.plot(ax=ax)"
   ]
  },
  {
   "cell_type": "markdown",
   "metadata": {},
   "source": [
    "## Cálculo de la matriz de distancias\n",
    "\n",
    "Ahora construimos la matriz de distancias entre todos los museos. Como la tierra es un [geoide](https://es.wikipedia.org/wiki/Geoide) (es decir que no es [plana](https://es.wikipedia.org/wiki/Terraplanismo)), el cálculo de distancias no es una operación obvia. Una opción es proyectar a un [sistema de coordenadas local](https://geopandas.org/en/stable/docs/user_guide/projections.html), de forma tal que las distancias euclideas se correspondan con las distancias en metros. En este notebook usamos [EPSG](https://en.wikipedia.org/wiki/EPSG_Geodetic_Parameter_Dataset) 22184. "
   ]
  },
  {
   "cell_type": "code",
   "execution_count": null,
   "metadata": {},
   "outputs": [],
   "source": [
    "# En esta línea:\n",
    "# Tomamos museos, lo convertimos al sistema de coordenadas de interés, extraemos su geometría (los puntos del mapa), \n",
    "# calculamos sus distancias a los otros puntos de df, redondeamos (obteniendo distancia en metros), y lo convertimos a un array 2D de numpy\n",
    "D = museos.to_crs(\"EPSG:22184\").geometry.apply(lambda g: museos.to_crs(\"EPSG:22184\").distance(g)).round().to_numpy()"
   ]
  },
  {
   "cell_type": "markdown",
   "metadata": {},
   "source": [
    "### Matriz de adyacencia: construimos una matriz conectando a cada museo con los $m$ más cercanos"
   ]
  },
  {
   "cell_type": "code",
   "execution_count": null,
   "metadata": {},
   "outputs": [],
   "source": [
    "def construye_adyacencia(D,m): \n",
    "    # Función que construye la matriz de adyacencia del grafo de museos\n",
    "    # D matriz de distancias, m cantidad de links por nodo\n",
    "    # Retorna la matriz de adyacencia como un numpy.\n",
    "    D = D.copy()\n",
    "    l = [] # Lista para guardar las filas\n",
    "    for fila in D: # recorriendo las filas, anexamos vectores lógicos\n",
    "        l.append(fila<=fila[np.argsort(fila)[m]] ) # En realidad, elegimos todos los nodos que estén a una distancia menor o igual a la del m-esimo más cercano\n",
    "    A = np.asarray(l).astype(int) # Convertimos a entero\n",
    "    np.fill_diagonal(A,0) # Borramos diagonal para eliminar autolinks\n",
    "    return(A)\n",
    "\n",
    "m = 3 # Cantidad de links por nodo\n",
    "A = construye_adyacencia(D,m)"
   ]
  },
  {
   "cell_type": "markdown",
   "metadata": {},
   "source": [
    "## Construcción de la red en NetworkX (sólo para las visualizaciones)"
   ]
  },
  {
   "cell_type": "code",
   "execution_count": null,
   "metadata": {},
   "outputs": [],
   "source": [
    "G = nx.from_numpy_array(A) # Construimos la red a partir de la matriz de adyacencia\n",
    "# Construimos un layout a partir de las coordenadas geográficas\n",
    "G_layout = {i:v for i,v in enumerate(zip(museos.to_crs(\"EPSG:22184\").get_coordinates()['x'],museos.to_crs(\"EPSG:22184\").get_coordinates()['y']))}"
   ]
  },
  {
   "cell_type": "code",
   "execution_count": null,
   "metadata": {},
   "outputs": [],
   "source": [
    "fig, ax = plt.subplots(figsize=(15, 15)) # Visualización de la red en el mapa\n",
    "barrios.to_crs(\"EPSG:22184\").boundary.plot(color='gray',ax=ax) # Graficamos Los barrios\n",
    "nx.draw_networkx(G,G_layout,ax=ax) # Graficamos los museos"
   ]
  },
  {
   "cell_type": "markdown",
   "metadata": {},
   "source": [
    "# Resolución del TP\n",
    "\n",
    "Aquí empieza la aventura... ¡diviertanse y consulten lo que necesiten!"
   ]
  },
  {
   "cell_type": "markdown",
   "metadata": {},
   "source": [
    "## Punto 1:"
   ]
  },
  {
   "cell_type": "markdown",
   "metadata": {},
   "source": [
    "Partimos de la ecuación 3:\n",
    "$$\n",
    "\\textbf{p} = (1 - \\alpha)\\ C\\ \\textbf{p} + \\frac{\\alpha}{N}\\ \\textbf{1}\n",
    "$$\n",
    "Esto es lo mismo que\n",
    "$$\n",
    "\\textbf{p} - (1 - \\alpha)\\ C\\ \\textbf{p} = \\frac{\\alpha}{N}\\ \\textbf{1}\n",
    "$$\n",
    "Sabiendo que $ I\\ \\textbf{p} = \\textbf{p} $ sacamos de factor común el vector p\n",
    "$$\n",
    "(I - (1 - \\alpha)\\ C)\\ \\textbf{p} = \\frac{\\alpha}{N}\\ \\textbf{1}\n",
    "$$\n",
    "$$\n",
    "\\frac{N}{\\alpha}(I - (1 - \\alpha)\\ C)\\ \\textbf{p} = \\textbf{1}\n",
    "$$\n",
    "Como $ M = \\frac{N}{\\alpha}(I - (1 - \\alpha)\\ C) $ y $ \\textbf{b} = \\textbf{1} $ entonces la ecuacion resulta $ M\\textbf{p} = \\textbf{b} $\n",
    "Como queriamos mostrar."
   ]
  },
  {
   "cell_type": "markdown",
   "metadata": {},
   "source": [
    "## Punto 2:\n",
    "Recordemos que para que el sistema de ecuaciones lineales $ Ax = b $ tenga una única solución, $A$ debe ser inversible. Lo mismo ocurre con $ M\\textbf{p} = \\textbf{b}$. Para que sea inversible, $M$ debe ser cuadrada y sus filas deben ser linealmente independientes.\n",
    "<br><br>\n",
    "La matriz $C$ se calcula como $ C = A^\\top\\ K^{-1} $. Como $A \\in \\mathbb{R}^{N \\times N}$ y $K$ es una matriz diagonal cuadrada, entonces $C$ también lo es. Como $M$ se construye restando un escalar multiplicando a $ C $ a una matriz identidad. A eso se le multiplica otro escalar. Por lo tanto $M$ es cuadrada.\n",
    "<br><br>\n",
    "Analizamos la singularidad de $M$. $ A $ es una matriz cuadrada donde su diagonal principal son ceros y sus elementos son unos o ceros. Lo que representa es el elemento $ a_{ij} $ es si el museo j se encuentra entre los 3 museos mas cercanos del i. Al calcular $C$ se transpone $A$ por lo tanto lo que representa eso mismo es el elemento $at_{ji}$\n",
    "<br>\n",
    "$K$ es una matriz diagonal con valores no nulos en la diagonal.\n",
    "<br><br>\n",
    "En este punto podemos afirmar que si $A$ es singular entonces $C$ es singular y por lo tanto $M$ es singular, debido a que el determinante de $C$ será $0$ y la operaciones que se realizan para construir $M$ haran que el determinante de $M$ sea igual a $0$.\n",
    "<br><br>\n",
    "Analizamos ahora la singularidad de $A$, Por la forma en la que se define, $A$ puede tener dos filas linealmente dependientes por lo que sería una matriz singular. Imaginemos el caso en que un museo (1) se encuentra en el cruce entre dos rectas perpendiculares entre si y sobre cada una de estas rectas se encuentran, en lados opuestos, dos museos. Estos 4 museos están a una distancia de una cuadra del museo A. El resto de los museos de la ciudad que no han sido descriptos se encuentran a, al menos, un km del museo (1). Podemos observar claramente como los museos que se sitúan sobre la misma recta y no son el (1), al representarlos en la matriz $A$ quedarían como filas linealmente dependientes. Por lo tanto $A$ es singular y no se cumplen las condiciones para garantizar que toda matriz $M$ tiene una única solución."
   ]
  },
  {
   "cell_type": "markdown",
   "metadata": {},
   "source": [
    "Cargamos funciones"
   ]
  },
  {
   "cell_type": "code",
   "execution_count": null,
   "metadata": {},
   "outputs": [],
   "source": [
    "# Función para permutar filas (para descompPLU)\n",
    "def permutacion(A, vector_P, index):\n",
    "    n = A.shape[0]\n",
    "    max_index = index + np.argmax(np.abs(A[index:, index]))\n",
    "    #swap\n",
    "    if max_index != index:\n",
    "        A[[index, max_index]] = A[[max_index, index]]\n",
    "        vector_P[[index, max_index]] = vector_P[[max_index, index]]\n",
    "\n",
    "\n",
    "# Descomposición PLU con pivoteo\n",
    "def calculaPLU(m, verbose=False):\n",
    "    mc = m.copy().astype(np.float64)\n",
    "    n = m.shape[0]\n",
    "    P = np.eye(n)\n",
    "    for i in range(n - 1):\n",
    "        max_row = i + np.argmax(np.abs(mc[i:, i]))\n",
    "        if max_row != i:\n",
    "            mc[[i, max_row]] = mc[[max_row, i]]\n",
    "            P[[i, max_row]] = P[[max_row, i]]\n",
    "        a_ii = mc[i, i]\n",
    "        if a_ii == 0:\n",
    "            raise ValueError(\"Matriz singular (no invertible)\")\n",
    "        L_i = mc[i+1:, i] / a_ii\n",
    "        mc[i+1:, i] = L_i\n",
    "        mc[i+1:, i+1:] -= np.outer(L_i, mc[i, i+1:])\n",
    "    \n",
    "    L = np.tril(mc, -1) + np.eye(n)\n",
    "    U = np.triu(mc)\n",
    "    if verbose:\n",
    "        print(\"P:\\n\", P)\n",
    "        print(\"L:\\n\", L)\n",
    "        print(\"U:\\n\", U)\n",
    "    return P, L, U\n",
    "\n",
    "def calcula_matrizK (A):\n",
    "    n = A.shape[0]\n",
    "    k = np.zeros((n,n),dtype=A.dtype)\n",
    "    for i in range(n):\n",
    "        k[i][i] = A[i].sum()\n",
    "    \n",
    "    return k\n",
    "\n",
    "\n",
    "def norma2(v, l, r):\n",
    "    if l+1 < r:\n",
    "        mid = (l+r)//2\n",
    "        n_left = norma2(v, l, mid)\n",
    "        n_right = norma2(v, mid, r)\n",
    "        return n_left + n_right\n",
    "    else:\n",
    "        return v[l]*v[l]\n",
    "\n",
    "def norma2Vectorial(v):\n",
    "    vc = v.copy()\n",
    "    norma = norma2(vc,l=0,r=v.shape[0])    \n",
    "    return np.sqrt(norma)\n",
    "\n"
   ]
  },
  {
   "cell_type": "code",
   "execution_count": null,
   "metadata": {},
   "outputs": [],
   "source": [
    "# template de funciones \n",
    "\n",
    "def construye_adyacencia(D,m): \n",
    "    # Función que construye la matriz de adyacencia del grafo de museos\n",
    "    # D matriz de distancias, m cantidad de links por nodo\n",
    "    # Retorna la matriz de adyacencia como un numpy.\n",
    "    D = D.copy()\n",
    "    l = [] # Lista para guardar las filas\n",
    "    for fila in D: # recorriendo las filas, anexamos vectores lógicos\n",
    "        l.append(fila<=fila[np.argsort(fila)[m]] ) # En realidad, elegimos todos los nodos que estén a una distancia menor o igual a la del m-esimo más cercano\n",
    "    A = np.asarray(l).astype(int) # Convertimos a entero\n",
    "    np.fill_diagonal(A,0) # Borramos diagonal para eliminar autolinks\n",
    "    return(A)\n",
    "\n",
    "def calculaLU(matriz, verbose=False):\n",
    "    mc = matriz.copy().astype(np.float64)\n",
    "    n = matriz.shape[0]\n",
    "    for i in range(n - 1):\n",
    "        a_ii = mc[i, i]\n",
    "        if a_ii == 0:\n",
    "            raise ValueError(\"Cero en la diagonal durante LU (se requiere pivoteo)\")\n",
    "        L_i = mc[i+1:, i] / a_ii\n",
    "        mc[i+1:, i] = L_i\n",
    "        mc[i+1:, i+1:] -= np.outer(L_i, mc[i, i+1:])\n",
    "    \n",
    "    L = np.tril(mc, -1) + np.eye(n)\n",
    "    U = np.triu(mc)\n",
    "    if verbose:\n",
    "        print(\"L:\\n\", L)\n",
    "        print(\"U:\\n\", U)\n",
    "    return L, U\n",
    "\n",
    "# Función para calcular la inversa \n",
    "def inversa(m):\n",
    "    n = m.shape[0]\n",
    "    try:\n",
    "        L, U = calculaLU(m)\n",
    "        P = np.eye(n)  # Matriz de permutación identidad si no hay pivoteo\n",
    "    except (ValueError, LinAlgError):\n",
    "        P, L, U = calculaPLU(m)\n",
    "    \n",
    "    m_inv = np.zeros((n, n))\n",
    "    for i in range(n):\n",
    "        e_i = P.T @ np.eye(n)[:, i]  # Aplica la permutación P al vector canónico\n",
    "        y = solve_triangular(L, e_i, lower=True)\n",
    "        x = solve_triangular(U, y, lower=False)\n",
    "        m_inv[:, i] = x\n",
    "    return m_inv\n",
    "\n",
    "def calcula_matriz_C(A): \n",
    "    # Función para calcular la matriz de trancisiones C\n",
    "    # A: Matriz de adyacencia\n",
    "    # Retorna la matriz C\n",
    "    Kinv = inversa(calcula_matrizK(A))\n",
    "    C = Kinv @ A\n",
    "    return C\n",
    "\n",
    "\n",
    "def calcula_pagerank(A,alfa):\n",
    "    # Función para calcular PageRank usando LU\n",
    "    # A: Matriz de adyacencia\n",
    "    # d: coeficientes de damping\n",
    "    # Retorna: Un vector p con los coeficientes de page rank de cada museo\n",
    "    C = calcula_matriz_C(A)\n",
    "    N = A.shape[0] # Obtenemos el número de museos N a partir de la estructura de la matriz A\n",
    "    M = calcular_matriz_M(C, N, alfa)\n",
    "    L, U = calculaLU(M) # Calculamos descomposición LU a partir de C y d\n",
    "    b = ... # Vector de 1s, multiplicado por el coeficiente correspondiente usando d y N.\n",
    "    Up = scipy.linalg.solve_triangular(L,b,lower=True) # Primera inversión usando L\n",
    "    p = scipy.linalg.solve_triangular(U,Up) # Segunda inversión usando U\n",
    "    return p\n",
    "\n",
    "def calcula_matriz_C_continua(D): \n",
    "    # Función para calcular la matriz de trancisiones C\n",
    "    # A: Matriz de adyacencia\n",
    "    # Retorna la matriz C en versión continua\n",
    "    D = D.copy()\n",
    "    F = ...\n",
    "    np.fill_diagonal(F,0)\n",
    "    Kinv = inversa(calcula_matrizK(D)) # Calcula inversa de la matriz K, que tiene en su diagonal la suma por filas de F \n",
    "    C = Kinv @ F # Calcula C multiplicando Kinv y F\n",
    "    return C\n",
    "\n",
    "\n"
   ]
  },
  {
   "cell_type": "code",
   "execution_count": null,
   "metadata": {},
   "outputs": [],
   "source": [
    "def visualizar_p(A,size,alfa=1/5):\n",
    "    C = calcula_matriz_C(A)\n",
    "    N=A.shape[0]\n",
    "    p = inversa(calcular_matriz_M(C, N, alfa)) @ np.ones(N)\n",
    "\n",
    "    fig, ax = plt.subplots(figsize=(size['plot size'], size['plot size']))\n",
    "    barrios.to_crs(\"EPSG:22184\").boundary.plot(color='gray', linewidth=0.5, ax=ax)\n",
    "    # Dibuja la red con tamaños proporcionales al PageRank\n",
    "    node_sizes =  size['node size'] * p  # se puede ajustar tamaños\n",
    "    nx.draw_networkx(\n",
    "        G,\n",
    "        pos=G_layout,\n",
    "        ax=ax,\n",
    "        node_size=node_sizes,  # escalado\n",
    "        node_color='purple',      \n",
    "        edge_color='blue',    \n",
    "        width=0.5,            \n",
    "        alpha=0.7,            \n",
    "        with_labels=False     \n",
    "    )\n",
    "    \n",
    "    ax.set_title(\"Red de Museos en CABA - Tamaño según PageRank (α={})\".format(alfa), fontsize=16, pad=20)\n",
    "    ax.grid(False)  # Ocultar cuadrícula\n",
    "    \n",
    "    plt.tight_layout()\n",
    "    plt.show()\n",
    "\n",
    "def visualizar_pR(D,G,size,m=3, alfa=1/5):\n",
    "    A = construye_adyacencia(D,m)\n",
    "\n",
    "    # Construcción de la red en NetworkX \n",
    "    G = nx.from_numpy_array(A) # Construimos la red a partir de la matriz de adyacencia\n",
    "    # Construimos un layout a partir de las coordenadas geográficas\n",
    "    G_layout = {i:v for i,v in enumerate(zip(museos.to_crs(\"EPSG:22184\").get_coordinates()['x'],museos.to_crs(\"EPSG:22184\").get_coordinates()['y']))}\n",
    "\n",
    "    # Visualizacion\n",
    "    fig, ax = plt.subplots(figsize=(15, 15)) # Visualización de la red en el mapa\n",
    "    barrios.to_crs(\"EPSG:22184\").boundary.plot(color='gray',ax=ax) # Graficamos Los barrios\n",
    "    nx.draw_networkx(G,G_layout,ax=ax) # Graficamos los museos\n",
    "\n",
    "    C = calcula_matriz_C(A)\n",
    "    N=A.shape[0]\n",
    "    p = inversa(calcular_matriz_M(C, N, alfa)) @ np.ones(N)\n",
    "\n",
    "    fig, ax = plt.subplots(figsize=(size['plot size'], size['plot size']))\n",
    "    barrios.to_crs(\"EPSG:22184\").boundary.plot(color='gray', linewidth=0.5, ax=ax)\n",
    "    # Dibuja la red con tamaños proporcionales al PageRank\n",
    "    node_sizes =  size['node size'] * p  # se puede ajustar tamaños\n",
    "    nx.draw_networkx(\n",
    "        G,\n",
    "        pos=G_layout,\n",
    "        ax=ax,\n",
    "        node_size=node_sizes,  # escalado\n",
    "        node_color='purple',      \n",
    "        edge_color='blue',    \n",
    "        width=0.5,            \n",
    "        alpha=0.7,            \n",
    "        with_labels=False     \n",
    "    )\n",
    "    \n",
    "    ax.set_title(\"Red de Museos en CABA - Tamaño según PageRank (α={})\".format(alfa), fontsize=16, pad=20)\n",
    "    ax.grid(False)  # Ocultar cuadrícula\n",
    "    \n",
    "    plt.tight_layout()\n",
    "    plt.show()\n"
   ]
  },
  {
   "cell_type": "markdown",
   "metadata": {},
   "source": [
    "## Punto 3:"
   ]
  },
  {
   "cell_type": "markdown",
   "metadata": {},
   "source": [
    "3.a) Visualizamos la red con los parametros:\n",
    "* $m=3$\n",
    "* $\\alpha = \\frac{1}{5}$\n"
   ]
  },
  {
   "cell_type": "code",
   "execution_count": null,
   "metadata": {},
   "outputs": [],
   "source": [
    "size ={'node size':6000, 'plot size':10}\n",
    "visualizar_p(A,size)"
   ]
  },
  {
   "cell_type": "markdown",
   "metadata": {},
   "source": [
    "construimos una red con los siguientes paŕametros\n",
    "* $m= 1,3,5,10$\n",
    "* $\\alpha = 1/5$"
   ]
  },
  {
   "cell_type": "code",
   "execution_count": null,
   "metadata": {},
   "outputs": [],
   "source": [
    "for m in (1, 3, 5, 10):\n",
    "    visualizar_pR(D, G, m=m,size=20)"
   ]
  },
  {
   "cell_type": "markdown",
   "metadata": {},
   "source": [
    "* $m=5$\n",
    "* $\\alpha = 6/7, 4/5, 2/3, 1/2, 1/3, 1/5, 1/7$"
   ]
  },
  {
   "cell_type": "code",
   "execution_count": null,
   "metadata": {},
   "outputs": [],
   "source": [
    "for alpha in [6/7, 4/5, 2/3, 1/2, 1/3, 1/5, 1/7]:\n",
    "    visualizar_pR(D, G,size, m=5, alfa=alpha)\n"
   ]
  },
  {
   "cell_type": "markdown",
   "metadata": {},
   "source": [
    "## Punto 4:\n",
    "\n",
    "Recordemos: Siendo $C$ una matriz estocástica, y el vector $v_{0} \\in \\mathbb{R}^N$ que representa la distribución de museos que son la primer visita de los visitantes, y tiene en su elemento $i$ la cantidad de visitantes que tienen al museo $i$ como su primer opción. Entonces $v_{1} = Cv_{0}$.\n",
    "<br><br>\n",
    "Ejemplo: Quiero calcular $\\textbf{w}$ luego que los visitantes recorran 3 museos. $r = 3$\n",
    "<br>\n",
    "$v_{1} = Cv_{0}$, $\\ v_{2} = Cv_{1}$, $\\ v_{3} = Cv_{2}$ \n",
    "<br><br>\n",
    "$\\textbf{w} = v_{0} + v_{1} + v_{2} = \\sum_{i=0}^{2} v_{i}$\n",
    "<br><br>\n",
    "Si generalizamos a $r$ cantidad de visitas entonces $\\textbf{w} = \\sum_{i=0}^{r - 1} v_{i}$\n",
    "<br><br>\n",
    "Observación: $v_{2} = Cv_{1} = C\\ C\\ v_{0} = C^{2}v_{0}$. En general $v_{k} = C^{k}v_{0}$.\n",
    "<br><br>\n",
    "Por lo tanto, $\\textbf{w} = \\sum_{i=0}^{r - 1} C^{i}v_{0}$\n",
    "<br><br>\n",
    "Notemos que en este caso, por definición $v_{0} = \\textbf{v}$. Luego $\\textbf{w} = \\sum_{i=0}^{r - 1} C^{i}\\textbf{v}$\n",
    "<br><br>\n",
    "Llamemos $B = \\sum_{i=0}^{r - 1} C^{i}$, la suma de matrices da como resultado una matriz y notar que $\\textbf{v}$ no depende de la suma. Luego $\\textbf{w} = B\\textbf{v}$\n",
    "<br><br>\n",
    "Siempre que se cumpla que $\\sum_{i=0}^{r - 1} C^{i}$ sea inversible, se pueden seguir esta serie de pasos:\n",
    "<br><br>\n",
    "$\\textbf{w} = B\\textbf{v}$\n",
    "<br><br>\n",
    "$B^{-1}\\textbf{w} = B^{-1}B\\textbf{v}$\n",
    "<br><br>\n",
    "$B^{-1}\\textbf{w} = I\\textbf{v}$\n",
    "<br><br>\n",
    "$B^{-1}\\textbf{w} = \\textbf{v}$\n",
    "<br><br>\n",
    "Concluimos lo que se quería mostrar."
   ]
  },
  {
   "cell_type": "markdown",
   "metadata": {},
   "source": [
    "## Punto 5:\n",
    "### 5.a"
   ]
  },
  {
   "cell_type": "code",
   "execution_count": null,
   "metadata": {},
   "outputs": [],
   "source": [
    "# La diafgonal son ceros\n",
    "def calcula_matriz_C_continua_(D):\n",
    "    N = D.shape[0]\n",
    "    C = np.eye(N) # acá C es la matriz identidad\n",
    "    M =D + C\n",
    "    M = 1/M\n",
    "    M -= C\n",
    "    # De paso sumemos las columnas\n",
    "    suma_columnas = np.transpose(np.add.reduce(M,axis=0))\n",
    "    #y de paso multipliquuemos \n",
    "    for i in range(N):\n",
    "        M[i] = M[i] * suma_columnas\n",
    "    return np.transpose(M)"
   ]
  },
  {
   "cell_type": "markdown",
   "metadata": {},
   "source": [
    "### 5.b"
   ]
  },
  {
   "cell_type": "code",
   "execution_count": null,
   "metadata": {},
   "outputs": [],
   "source": [
    "def calcula_B(C,cantidad_de_visitas):\n",
    "    # Recibe la matriz T de transiciones, y calcula la matriz B que representa la relación entre el total de visitas y el número inicial de visitantes\n",
    "    # suponiendo que cada visitante realizó cantidad_de_visitas pasos\n",
    "    # C: Matirz de transiciones\n",
    "    # cantidad_de_visitas: Cantidad de pasos en la red dado por los visitantes. Indicado como r en el enunciado\n",
    "    # Retorna:Una matriz B que vincula la cantidad de visitas w con la cantidad de primeras visitas v\n",
    "    B = np.eye(C.shape[0])\n",
    "    for i in range(cantidad_de_visitas-1):\n",
    "        B = B + np.linalg.matrix_power(C, i) # Sumamos las matrices de transición para cada cantidad de pasos\n",
    "    return B"
   ]
  },
  {
   "cell_type": "markdown",
   "metadata": {},
   "source": [
    "### 5.c"
   ]
  },
  {
   "cell_type": "code",
   "execution_count": null,
   "metadata": {},
   "outputs": [],
   "source": [
    "path\n",
    "w = np.loadtxt(path+'visitas.txt', dtype=float)\n",
    "C = calcula_matriz_C_continua_(D)\n",
    "B = calcula_B(C, 3)\n",
    "v = inversa(B) @ w\n",
    "norma_v = norma2Vectorial(v)\n",
    "print(\"La cantidad de visitantes que entraron en la red luego de dar 3 paso es: {}\".format(norma_v))"
   ]
  },
  {
   "cell_type": "markdown",
   "metadata": {},
   "source": [
    "## Punto 6:"
   ]
  },
  {
   "cell_type": "markdown",
   "metadata": {},
   "source": [
    "# Extras\n",
    "\n",
    "Para graficar la red con un conjunto de puntajes (como el Page Rank)"
   ]
  },
  {
   "cell_type": "code",
   "execution_count": null,
   "metadata": {},
   "outputs": [],
   "source": [
    "factor_escala = 1e4 # Escalamos los nodos 10 mil veces para que sean bien visibles\n",
    "fig, ax = plt.subplots(figsize=(10, 10)) # Visualización de la red en el mapa\n",
    "barrios.to_crs(\"EPSG:22184\").boundary.plot(color='gray',ax=ax) # Graficamos Los barrios\n",
    "pr = np.random.uniform(0,1,museos.shape[0])# Este va a ser su score Page Rank. Ahora lo reemplazamos con un vector al azar\n",
    "pr = pr/pr.sum() # Normalizamos para que sume 1\n",
    "Nprincipales = 5 # Cantidad de principales\n",
    "principales = np.argsort(pr)[-Nprincipales:] # Identificamos a los N principales\n",
    "labels = {n: str(n) if i in principales else \"\" for i, n in enumerate(G.nodes)} # Nombres para esos nodos\n",
    "nx.draw_networkx(G,G_layout,node_size = pr*factor_escala, ax=ax,with_labels=False) # Graficamos red\n",
    "nx.draw_networkx_labels(G, G_layout, labels=labels, font_size=6, font_color=\"k\") # Agregamos los nombres"
   ]
  },
  {
   "cell_type": "code",
   "execution_count": null,
   "metadata": {},
   "outputs": [],
   "source": []
  }
 ],
 "metadata": {
  "kernelspec": {
   "display_name": "Python 3 (ipykernel)",
   "language": "python",
   "name": "python3"
  },
  "language_info": {
   "codemirror_mode": {
    "name": "ipython",
    "version": 3
   },
   "file_extension": ".py",
   "mimetype": "text/x-python",
   "name": "python",
   "nbconvert_exporter": "python",
   "pygments_lexer": "ipython3",
   "version": "3.12.7"
  }
 },
 "nbformat": 4,
 "nbformat_minor": 4
}
