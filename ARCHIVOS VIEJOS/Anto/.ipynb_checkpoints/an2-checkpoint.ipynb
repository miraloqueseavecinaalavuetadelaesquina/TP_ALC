{
 "cells": [
  {
   "cell_type": "markdown",
   "id": "85878f8d-1150-4750-83df-62efc74ebb38",
   "metadata": {},
   "source": [
    "# TP1"
   ]
  },
  {
   "cell_type": "markdown",
   "id": "5aa8a531-9fc5-4d85-b2ef-a29e1b453064",
   "metadata": {},
   "source": [
    "## Definiciones\n",
    "\n",
    "### Matriz de adyacencia\n",
    "Sea $G =\\{m_1, \\dotsc,m_n\\}$ un ocnjunto de nodos definimos la \\textit{matriz de adyacencia} como la representación de la red generada por \\textit{G}, el elemento $A_{ij}$ muestra la relación entre el elemento \\textit{i} y \\textit{j}. para este caso $A_{ij}= 1$ si el museo \\textit{j} se encuentra entre los \\textit{n} museos más cercanos al museo \\textit{i}, en caso contrario $A_{ij}= 0$ \n",
    "\\[\n",
    "A_{ij} =\n",
    "\\begin{cases}\n",
    "    1 & \\text{si } \\  m_i \\mathcal{R} m_j \\\\\n",
    "    0 & \\text{caso contrario}\n",
    "\\end{cases}\n",
    "\\[\n",
    "\n",
    "### Matriz de transiciones.\n",
    "Definimos la matriz:\n",
    "\\[\n",
    "K_{ij} = \n",
    "\\begin{cases}\n",
    "    \\sum_{h=i}^n A_{ih} & i=j\\\\\n",
    "    0 & i \\neq j\n",
    "\\end{cases}\n",
    "\\]\n",
    "Definimos la matriz de transiciones \\textit{C} definina como:\n",
    "\\[\n",
    "C = A^T K^{-1}\n",
    "]\\\n",
    "Decimos que el elemento $C_{ij}$ representa la probabilidad de moverse desde $m_i$ a $m_j$. La matriz \\textit{C} es estocásica, pues para cada \\textit{j}se verifica $\\sum_{i=1}^n K_{ij} = 1$\n",
    "\n"
   ]
  },
  {
   "cell_type": "code",
   "execution_count": null,
   "id": "df888d3b-0263-4a91-8ddc-eec928f206b1",
   "metadata": {},
   "outputs": [],
   "source": []
  }
 ],
 "metadata": {
  "kernelspec": {
   "display_name": "Python 3 (ipykernel)",
   "language": "python",
   "name": "python3"
  },
  "language_info": {
   "codemirror_mode": {
    "name": "ipython",
    "version": 3
   },
   "file_extension": ".py",
   "mimetype": "text/x-python",
   "name": "python",
   "nbconvert_exporter": "python",
   "pygments_lexer": "ipython3",
   "version": "3.12.7"
  }
 },
 "nbformat": 4,
 "nbformat_minor": 5
}
